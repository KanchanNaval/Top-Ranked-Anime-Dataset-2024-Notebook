{
 "cells": [
  {
   "cell_type": "code",
   "execution_count": 1,
   "id": "4a63f898",
   "metadata": {
    "_cell_guid": "b1076dfc-b9ad-4769-8c92-a6c4dae69d19",
    "_uuid": "8f2839f25d086af736a60e9eeb907d3b93b6e0e5",
    "execution": {
     "iopub.execute_input": "2024-06-17T13:19:25.069335Z",
     "iopub.status.busy": "2024-06-17T13:19:25.068903Z",
     "iopub.status.idle": "2024-06-17T13:19:26.034862Z",
     "shell.execute_reply": "2024-06-17T13:19:26.033325Z"
    },
    "papermill": {
     "duration": 0.979686,
     "end_time": "2024-06-17T13:19:26.037800",
     "exception": false,
     "start_time": "2024-06-17T13:19:25.058114",
     "status": "completed"
    },
    "tags": []
   },
   "outputs": [
    {
     "name": "stdout",
     "output_type": "stream",
     "text": [
      "/kaggle/input/top-ranked-anime-dataset/toprankedanime.csv\n"
     ]
    }
   ],
   "source": [
    "# This Python 3 environment comes with many helpful analytics libraries installed\n",
    "# It is defined by the kaggle/python Docker image: https://github.com/kaggle/docker-python\n",
    "# For example, here's several helpful packages to load\n",
    "\n",
    "import numpy as np # linear algebra\n",
    "import pandas as pd # data processing, CSV file I/O (e.g. pd.read_csv)\n",
    "\n",
    "# Input data files are available in the read-only \"../input/\" directory\n",
    "# For example, running this (by clicking run or pressing Shift+Enter) will list all files under the input directory\n",
    "\n",
    "import os\n",
    "for dirname, _, filenames in os.walk('/kaggle/input'):\n",
    "    for filename in filenames:\n",
    "        print(os.path.join(dirname, filename))\n",
    "\n",
    "# You can write up to 20GB to the current directory (/kaggle/working/) that gets preserved as output when you create a version using \"Save & Run All\" \n",
    "# You can also write temporary files to /kaggle/temp/, but they won't be saved outside of the current session"
   ]
  },
  {
   "cell_type": "markdown",
   "id": "4e54ac14",
   "metadata": {
    "papermill": {
     "duration": 0.008285,
     "end_time": "2024-06-17T13:19:26.054827",
     "exception": false,
     "start_time": "2024-06-17T13:19:26.046542",
     "status": "completed"
    },
    "tags": []
   },
   "source": [
    "# Step 1: Import Libraries"
   ]
  },
  {
   "cell_type": "code",
   "execution_count": 2,
   "id": "cb2ffaa5",
   "metadata": {
    "execution": {
     "iopub.execute_input": "2024-06-17T13:19:26.074054Z",
     "iopub.status.busy": "2024-06-17T13:19:26.073482Z",
     "iopub.status.idle": "2024-06-17T13:19:27.532530Z",
     "shell.execute_reply": "2024-06-17T13:19:27.531451Z"
    },
    "papermill": {
     "duration": 1.472281,
     "end_time": "2024-06-17T13:19:27.535499",
     "exception": false,
     "start_time": "2024-06-17T13:19:26.063218",
     "status": "completed"
    },
    "tags": []
   },
   "outputs": [],
   "source": [
    "import pandas as pd\n",
    "import numpy as np\n",
    "import seaborn as sns\n",
    "import matplotlib.pyplot as plt\n",
    "import warnings\n",
    "warnings.simplefilter(\"ignore\")"
   ]
  },
  {
   "cell_type": "markdown",
   "id": "26f0e35b",
   "metadata": {
    "papermill": {
     "duration": 0.008413,
     "end_time": "2024-06-17T13:19:27.552753",
     "exception": false,
     "start_time": "2024-06-17T13:19:27.544340",
     "status": "completed"
    },
    "tags": []
   },
   "source": [
    "# Step 2: load dataset"
   ]
  },
  {
   "cell_type": "code",
   "execution_count": 3,
   "id": "e3358a6b",
   "metadata": {
    "execution": {
     "iopub.execute_input": "2024-06-17T13:19:27.571936Z",
     "iopub.status.busy": "2024-06-17T13:19:27.571548Z",
     "iopub.status.idle": "2024-06-17T13:19:27.620324Z",
     "shell.execute_reply": "2024-06-17T13:19:27.619157Z"
    },
    "papermill": {
     "duration": 0.061891,
     "end_time": "2024-06-17T13:19:27.623287",
     "exception": false,
     "start_time": "2024-06-17T13:19:27.561396",
     "status": "completed"
    },
    "tags": []
   },
   "outputs": [],
   "source": [
    "df = pd.read_csv('/kaggle/input/top-ranked-anime-dataset/toprankedanime.csv')"
   ]
  },
  {
   "cell_type": "code",
   "execution_count": 4,
   "id": "3987e4e8",
   "metadata": {
    "execution": {
     "iopub.execute_input": "2024-06-17T13:19:27.643058Z",
     "iopub.status.busy": "2024-06-17T13:19:27.642668Z",
     "iopub.status.idle": "2024-06-17T13:19:27.677632Z",
     "shell.execute_reply": "2024-06-17T13:19:27.676458Z"
    },
    "papermill": {
     "duration": 0.047637,
     "end_time": "2024-06-17T13:19:27.680165",
     "exception": false,
     "start_time": "2024-06-17T13:19:27.632528",
     "status": "completed"
    },
    "tags": []
   },
   "outputs": [
    {
     "data": {
      "text/html": [
       "<div>\n",
       "<style scoped>\n",
       "    .dataframe tbody tr th:only-of-type {\n",
       "        vertical-align: middle;\n",
       "    }\n",
       "\n",
       "    .dataframe tbody tr th {\n",
       "        vertical-align: top;\n",
       "    }\n",
       "\n",
       "    .dataframe thead th {\n",
       "        text-align: right;\n",
       "    }\n",
       "</style>\n",
       "<table border=\"1\" class=\"dataframe\">\n",
       "  <thead>\n",
       "    <tr style=\"text-align: right;\">\n",
       "      <th></th>\n",
       "      <th>name</th>\n",
       "      <th>type</th>\n",
       "      <th>episodes</th>\n",
       "      <th>status</th>\n",
       "      <th>aired</th>\n",
       "      <th>premiered</th>\n",
       "      <th>broadcast</th>\n",
       "      <th>producers</th>\n",
       "      <th>licensors</th>\n",
       "      <th>studios</th>\n",
       "      <th>source</th>\n",
       "      <th>genres</th>\n",
       "      <th>duration</th>\n",
       "      <th>rating</th>\n",
       "      <th>score</th>\n",
       "      <th>ranked</th>\n",
       "      <th>popularity</th>\n",
       "      <th>favorites</th>\n",
       "    </tr>\n",
       "  </thead>\n",
       "  <tbody>\n",
       "    <tr>\n",
       "      <th>0</th>\n",
       "      <td>Sousou no Frieren</td>\n",
       "      <td>TV</td>\n",
       "      <td>28</td>\n",
       "      <td>Finished Airing</td>\n",
       "      <td>Sep 29, 2023 to Mar 22, 2024</td>\n",
       "      <td>Fall 2023</td>\n",
       "      <td>Fridays at 23:00 (JST)</td>\n",
       "      <td>['Aniplex', 'Dentsu', 'Shogakukan-Shueisha Pro...</td>\n",
       "      <td>['add some']</td>\n",
       "      <td>Madhouse</td>\n",
       "      <td>Manga</td>\n",
       "      <td>['Adventure', 'Drama', 'Fantasy']</td>\n",
       "      <td>24 min. per ep.</td>\n",
       "      <td>PG-13 - Teens 13 or older</td>\n",
       "      <td>9.36</td>\n",
       "      <td>#1</td>\n",
       "      <td>#259</td>\n",
       "      <td>43,524</td>\n",
       "    </tr>\n",
       "    <tr>\n",
       "      <th>1</th>\n",
       "      <td>Steins;Gate</td>\n",
       "      <td>TV</td>\n",
       "      <td>24</td>\n",
       "      <td>Finished Airing</td>\n",
       "      <td>Apr 6, 2011 to Sep 14, 2011</td>\n",
       "      <td>Spring 2011</td>\n",
       "      <td>Wednesdays at 02:05 (JST)</td>\n",
       "      <td>['Frontier Works', 'Media Factory', 'Kadokawa ...</td>\n",
       "      <td>['Funimation']</td>\n",
       "      <td>White Fox</td>\n",
       "      <td>NaN</td>\n",
       "      <td>['Drama', 'Sci-Fi', 'Suspense']</td>\n",
       "      <td>24 min. per ep.</td>\n",
       "      <td>PG-13 - Teens 13 or older</td>\n",
       "      <td>9.07</td>\n",
       "      <td>#3</td>\n",
       "      <td>#13</td>\n",
       "      <td>189,803</td>\n",
       "    </tr>\n",
       "    <tr>\n",
       "      <th>2</th>\n",
       "      <td>Fullmetal Alchemist: Brotherhood</td>\n",
       "      <td>TV</td>\n",
       "      <td>64</td>\n",
       "      <td>Finished Airing</td>\n",
       "      <td>Apr 5, 2009 to Jul 4, 2010</td>\n",
       "      <td>Spring 2009</td>\n",
       "      <td>Sundays at 17:00 (JST)</td>\n",
       "      <td>['Aniplex', 'Square Enix', 'Mainichi Broadcast...</td>\n",
       "      <td>['Funimation', 'Aniplex of America']</td>\n",
       "      <td>Bones</td>\n",
       "      <td>Manga</td>\n",
       "      <td>['Action', 'Adventure', 'Drama', 'Fantasy']</td>\n",
       "      <td>24 min. per ep.</td>\n",
       "      <td>R - 17+ (violence &amp; profanity)</td>\n",
       "      <td>9.09</td>\n",
       "      <td>#2</td>\n",
       "      <td>#3</td>\n",
       "      <td>226,283</td>\n",
       "    </tr>\n",
       "    <tr>\n",
       "      <th>3</th>\n",
       "      <td>Gintama°</td>\n",
       "      <td>TV</td>\n",
       "      <td>51</td>\n",
       "      <td>Finished Airing</td>\n",
       "      <td>Apr 8, 2015 to Mar 30, 2016</td>\n",
       "      <td>Spring 2015</td>\n",
       "      <td>Wednesdays at 18:00 (JST)</td>\n",
       "      <td>['TV Tokyo', 'Aniplex', 'Dentsu']</td>\n",
       "      <td>['Funimation', 'Crunchyroll']</td>\n",
       "      <td>Bandai Namco Pictures</td>\n",
       "      <td>Manga</td>\n",
       "      <td>['Action', 'Comedy', 'Sci-Fi']</td>\n",
       "      <td>24 min. per ep.</td>\n",
       "      <td>PG-13 - Teens 13 or older</td>\n",
       "      <td>9.06</td>\n",
       "      <td>#4</td>\n",
       "      <td>#343</td>\n",
       "      <td>16,685</td>\n",
       "    </tr>\n",
       "    <tr>\n",
       "      <th>4</th>\n",
       "      <td>Shingeki no Kyojin Season 3 Part 2</td>\n",
       "      <td>TV</td>\n",
       "      <td>10</td>\n",
       "      <td>Finished Airing</td>\n",
       "      <td>Apr 29, 2019 to Jul 1, 2019</td>\n",
       "      <td>Spring 2019</td>\n",
       "      <td>Mondays at 00:10 (JST)</td>\n",
       "      <td>['Production I.G', 'Dentsu', 'Mainichi Broadca...</td>\n",
       "      <td>['Funimation']</td>\n",
       "      <td>Wit Studio</td>\n",
       "      <td>Manga</td>\n",
       "      <td>['Action', 'Drama', 'Suspense']</td>\n",
       "      <td>23 min. per ep.</td>\n",
       "      <td>R - 17+ (violence &amp; profanity)</td>\n",
       "      <td>9.05</td>\n",
       "      <td>#5</td>\n",
       "      <td>#21</td>\n",
       "      <td>58,822</td>\n",
       "    </tr>\n",
       "  </tbody>\n",
       "</table>\n",
       "</div>"
      ],
      "text/plain": [
       "                                 name type episodes           status  \\\n",
       "0                   Sousou no Frieren   TV       28  Finished Airing   \n",
       "1                         Steins;Gate   TV       24  Finished Airing   \n",
       "2    Fullmetal Alchemist: Brotherhood   TV       64  Finished Airing   \n",
       "3                            Gintama°   TV       51  Finished Airing   \n",
       "4  Shingeki no Kyojin Season 3 Part 2   TV       10  Finished Airing   \n",
       "\n",
       "                          aired    premiered                  broadcast  \\\n",
       "0  Sep 29, 2023 to Mar 22, 2024    Fall 2023     Fridays at 23:00 (JST)   \n",
       "1   Apr 6, 2011 to Sep 14, 2011  Spring 2011  Wednesdays at 02:05 (JST)   \n",
       "2    Apr 5, 2009 to Jul 4, 2010  Spring 2009     Sundays at 17:00 (JST)   \n",
       "3   Apr 8, 2015 to Mar 30, 2016  Spring 2015  Wednesdays at 18:00 (JST)   \n",
       "4   Apr 29, 2019 to Jul 1, 2019  Spring 2019     Mondays at 00:10 (JST)   \n",
       "\n",
       "                                           producers  \\\n",
       "0  ['Aniplex', 'Dentsu', 'Shogakukan-Shueisha Pro...   \n",
       "1  ['Frontier Works', 'Media Factory', 'Kadokawa ...   \n",
       "2  ['Aniplex', 'Square Enix', 'Mainichi Broadcast...   \n",
       "3                  ['TV Tokyo', 'Aniplex', 'Dentsu']   \n",
       "4  ['Production I.G', 'Dentsu', 'Mainichi Broadca...   \n",
       "\n",
       "                              licensors                studios source  \\\n",
       "0                          ['add some']               Madhouse  Manga   \n",
       "1                        ['Funimation']              White Fox    NaN   \n",
       "2  ['Funimation', 'Aniplex of America']                  Bones  Manga   \n",
       "3         ['Funimation', 'Crunchyroll']  Bandai Namco Pictures  Manga   \n",
       "4                        ['Funimation']             Wit Studio  Manga   \n",
       "\n",
       "                                        genres         duration  \\\n",
       "0            ['Adventure', 'Drama', 'Fantasy']  24 min. per ep.   \n",
       "1              ['Drama', 'Sci-Fi', 'Suspense']  24 min. per ep.   \n",
       "2  ['Action', 'Adventure', 'Drama', 'Fantasy']  24 min. per ep.   \n",
       "3               ['Action', 'Comedy', 'Sci-Fi']  24 min. per ep.   \n",
       "4              ['Action', 'Drama', 'Suspense']  23 min. per ep.   \n",
       "\n",
       "                           rating  score ranked popularity favorites  \n",
       "0       PG-13 - Teens 13 or older   9.36     #1       #259    43,524  \n",
       "1       PG-13 - Teens 13 or older   9.07     #3        #13   189,803  \n",
       "2  R - 17+ (violence & profanity)   9.09     #2         #3   226,283  \n",
       "3       PG-13 - Teens 13 or older   9.06     #4       #343    16,685  \n",
       "4  R - 17+ (violence & profanity)   9.05     #5        #21    58,822  "
      ]
     },
     "execution_count": 4,
     "metadata": {},
     "output_type": "execute_result"
    }
   ],
   "source": [
    "df.head(5)"
   ]
  },
  {
   "cell_type": "code",
   "execution_count": 5,
   "id": "a04c7d3e",
   "metadata": {
    "execution": {
     "iopub.execute_input": "2024-06-17T13:19:27.700293Z",
     "iopub.status.busy": "2024-06-17T13:19:27.699880Z",
     "iopub.status.idle": "2024-06-17T13:19:27.721909Z",
     "shell.execute_reply": "2024-06-17T13:19:27.720751Z"
    },
    "papermill": {
     "duration": 0.035087,
     "end_time": "2024-06-17T13:19:27.724480",
     "exception": false,
     "start_time": "2024-06-17T13:19:27.689393",
     "status": "completed"
    },
    "tags": []
   },
   "outputs": [
    {
     "data": {
      "text/html": [
       "<div>\n",
       "<style scoped>\n",
       "    .dataframe tbody tr th:only-of-type {\n",
       "        vertical-align: middle;\n",
       "    }\n",
       "\n",
       "    .dataframe tbody tr th {\n",
       "        vertical-align: top;\n",
       "    }\n",
       "\n",
       "    .dataframe thead th {\n",
       "        text-align: right;\n",
       "    }\n",
       "</style>\n",
       "<table border=\"1\" class=\"dataframe\">\n",
       "  <thead>\n",
       "    <tr style=\"text-align: right;\">\n",
       "      <th></th>\n",
       "      <th>name</th>\n",
       "      <th>type</th>\n",
       "      <th>episodes</th>\n",
       "      <th>status</th>\n",
       "      <th>aired</th>\n",
       "      <th>premiered</th>\n",
       "      <th>broadcast</th>\n",
       "      <th>producers</th>\n",
       "      <th>licensors</th>\n",
       "      <th>studios</th>\n",
       "      <th>source</th>\n",
       "      <th>genres</th>\n",
       "      <th>duration</th>\n",
       "      <th>rating</th>\n",
       "      <th>score</th>\n",
       "      <th>ranked</th>\n",
       "      <th>popularity</th>\n",
       "      <th>favorites</th>\n",
       "    </tr>\n",
       "  </thead>\n",
       "  <tbody>\n",
       "    <tr>\n",
       "      <th>2018</th>\n",
       "      <td>Chobits</td>\n",
       "      <td>TV</td>\n",
       "      <td>26</td>\n",
       "      <td>Finished Airing</td>\n",
       "      <td>Apr 3, 2002 to Sep 25, 2002</td>\n",
       "      <td>Spring 2002</td>\n",
       "      <td>Wednesdays at 02:20 (JST)</td>\n",
       "      <td>['TBS', 'Pioneer LDC']</td>\n",
       "      <td>['Funimation', 'Geneon Entertainment USA']</td>\n",
       "      <td>Madhouse</td>\n",
       "      <td>Manga</td>\n",
       "      <td>['Comedy', 'Drama', 'Romance', 'Sci-Fi', 'Ecchi']</td>\n",
       "      <td>24 min. per ep.</td>\n",
       "      <td>PG-13 - Teens 13 or older</td>\n",
       "      <td>7.4</td>\n",
       "      <td>#2249</td>\n",
       "      <td>#465</td>\n",
       "      <td>4,004</td>\n",
       "    </tr>\n",
       "    <tr>\n",
       "      <th>2019</th>\n",
       "      <td>Bokutachi no Remake</td>\n",
       "      <td>TV</td>\n",
       "      <td>12</td>\n",
       "      <td>Finished Airing</td>\n",
       "      <td>Jul 3, 2021 to Sep 25, 2021</td>\n",
       "      <td>Summer 2021</td>\n",
       "      <td>Saturdays at 21:30 (JST)</td>\n",
       "      <td>['Studio Mausu', 'bilibili', 'Bushiroad Music'...</td>\n",
       "      <td>['add some']</td>\n",
       "      <td>feel.</td>\n",
       "      <td>Light novel</td>\n",
       "      <td>['Drama', 'Romance']</td>\n",
       "      <td>25 min. per ep.</td>\n",
       "      <td>PG-13 - Teens 13 or older</td>\n",
       "      <td>7.4</td>\n",
       "      <td>#2248</td>\n",
       "      <td>#688</td>\n",
       "      <td>2,394</td>\n",
       "    </tr>\n",
       "    <tr>\n",
       "      <th>2020</th>\n",
       "      <td>Akazukin Chacha</td>\n",
       "      <td>TV</td>\n",
       "      <td>74</td>\n",
       "      <td>Finished Airing</td>\n",
       "      <td>Jan 7, 1994 to Jun 30, 1995</td>\n",
       "      <td>Winter 1994</td>\n",
       "      <td>Fridays at 18:00 (JST)</td>\n",
       "      <td>['Nihon Ad Systems', 'Shueisha']</td>\n",
       "      <td>['add some']</td>\n",
       "      <td>Gallop</td>\n",
       "      <td>Manga</td>\n",
       "      <td>['Adventure', 'Comedy', 'Fantasy', 'Romance']</td>\n",
       "      <td>24 min. per ep.</td>\n",
       "      <td>G - All Ages</td>\n",
       "      <td>7.4</td>\n",
       "      <td>#2247</td>\n",
       "      <td>#5270</td>\n",
       "      <td>132</td>\n",
       "    </tr>\n",
       "    <tr>\n",
       "      <th>2021</th>\n",
       "      <td>Yao Shen Ji 4th Season</td>\n",
       "      <td>ONA</td>\n",
       "      <td>52</td>\n",
       "      <td>Finished Airing</td>\n",
       "      <td>Apr 8, 2020 to Sep 27, 2020</td>\n",
       "      <td>NaN</td>\n",
       "      <td>NaN</td>\n",
       "      <td>['bilibili']</td>\n",
       "      <td>['add some']</td>\n",
       "      <td>Ruo Hong Culture</td>\n",
       "      <td>NaN</td>\n",
       "      <td>['Action', 'Adventure', 'Fantasy', 'Romance']</td>\n",
       "      <td>8 min. per ep.</td>\n",
       "      <td>PG-13 - Teens 13 or older</td>\n",
       "      <td>7.4</td>\n",
       "      <td>#2245</td>\n",
       "      <td>#7564</td>\n",
       "      <td>31</td>\n",
       "    </tr>\n",
       "    <tr>\n",
       "      <th>2022</th>\n",
       "      <td>Wu Geng Ji Zhi Tianqi</td>\n",
       "      <td>ONA</td>\n",
       "      <td>42</td>\n",
       "      <td>Finished Airing</td>\n",
       "      <td>Dec 29, 2017 to Oct 5, 2018</td>\n",
       "      <td>NaN</td>\n",
       "      <td>NaN</td>\n",
       "      <td>['Tencent Penguin Pictures']</td>\n",
       "      <td>['add some']</td>\n",
       "      <td>Sparkly Key Animation Studio</td>\n",
       "      <td>Manga</td>\n",
       "      <td>['Action', 'Fantasy', 'Supernatural']</td>\n",
       "      <td>16 min. per ep.</td>\n",
       "      <td>PG-13 - Teens 13 or older</td>\n",
       "      <td>7.4</td>\n",
       "      <td>#2244</td>\n",
       "      <td>#9574</td>\n",
       "      <td>10</td>\n",
       "    </tr>\n",
       "  </tbody>\n",
       "</table>\n",
       "</div>"
      ],
      "text/plain": [
       "                        name type episodes           status  \\\n",
       "2018                 Chobits   TV       26  Finished Airing   \n",
       "2019     Bokutachi no Remake   TV       12  Finished Airing   \n",
       "2020         Akazukin Chacha   TV       74  Finished Airing   \n",
       "2021  Yao Shen Ji 4th Season  ONA       52  Finished Airing   \n",
       "2022   Wu Geng Ji Zhi Tianqi  ONA       42  Finished Airing   \n",
       "\n",
       "                            aired    premiered                  broadcast  \\\n",
       "2018  Apr 3, 2002 to Sep 25, 2002  Spring 2002  Wednesdays at 02:20 (JST)   \n",
       "2019  Jul 3, 2021 to Sep 25, 2021  Summer 2021   Saturdays at 21:30 (JST)   \n",
       "2020  Jan 7, 1994 to Jun 30, 1995  Winter 1994     Fridays at 18:00 (JST)   \n",
       "2021  Apr 8, 2020 to Sep 27, 2020          NaN                        NaN   \n",
       "2022  Dec 29, 2017 to Oct 5, 2018          NaN                        NaN   \n",
       "\n",
       "                                              producers  \\\n",
       "2018                             ['TBS', 'Pioneer LDC']   \n",
       "2019  ['Studio Mausu', 'bilibili', 'Bushiroad Music'...   \n",
       "2020                   ['Nihon Ad Systems', 'Shueisha']   \n",
       "2021                                       ['bilibili']   \n",
       "2022                       ['Tencent Penguin Pictures']   \n",
       "\n",
       "                                       licensors  \\\n",
       "2018  ['Funimation', 'Geneon Entertainment USA']   \n",
       "2019                                ['add some']   \n",
       "2020                                ['add some']   \n",
       "2021                                ['add some']   \n",
       "2022                                ['add some']   \n",
       "\n",
       "                           studios       source  \\\n",
       "2018                      Madhouse        Manga   \n",
       "2019                         feel.  Light novel   \n",
       "2020                        Gallop        Manga   \n",
       "2021              Ruo Hong Culture          NaN   \n",
       "2022  Sparkly Key Animation Studio        Manga   \n",
       "\n",
       "                                                 genres         duration  \\\n",
       "2018  ['Comedy', 'Drama', 'Romance', 'Sci-Fi', 'Ecchi']  24 min. per ep.   \n",
       "2019                               ['Drama', 'Romance']  25 min. per ep.   \n",
       "2020      ['Adventure', 'Comedy', 'Fantasy', 'Romance']  24 min. per ep.   \n",
       "2021      ['Action', 'Adventure', 'Fantasy', 'Romance']   8 min. per ep.   \n",
       "2022              ['Action', 'Fantasy', 'Supernatural']  16 min. per ep.   \n",
       "\n",
       "                         rating  score ranked popularity favorites  \n",
       "2018  PG-13 - Teens 13 or older    7.4  #2249       #465     4,004  \n",
       "2019  PG-13 - Teens 13 or older    7.4  #2248       #688     2,394  \n",
       "2020               G - All Ages    7.4  #2247      #5270       132  \n",
       "2021  PG-13 - Teens 13 or older    7.4  #2245      #7564        31  \n",
       "2022  PG-13 - Teens 13 or older    7.4  #2244      #9574        10  "
      ]
     },
     "execution_count": 5,
     "metadata": {},
     "output_type": "execute_result"
    }
   ],
   "source": [
    "df.tail()"
   ]
  },
  {
   "cell_type": "markdown",
   "id": "c7692408",
   "metadata": {
    "papermill": {
     "duration": 0.009398,
     "end_time": "2024-06-17T13:19:27.743304",
     "exception": false,
     "start_time": "2024-06-17T13:19:27.733906",
     "status": "completed"
    },
    "tags": []
   },
   "source": [
    "# Step 3 : Exploring the Dataset"
   ]
  },
  {
   "cell_type": "code",
   "execution_count": 6,
   "id": "22f94fa2",
   "metadata": {
    "execution": {
     "iopub.execute_input": "2024-06-17T13:19:27.764958Z",
     "iopub.status.busy": "2024-06-17T13:19:27.763749Z",
     "iopub.status.idle": "2024-06-17T13:19:27.797217Z",
     "shell.execute_reply": "2024-06-17T13:19:27.795808Z"
    },
    "papermill": {
     "duration": 0.046984,
     "end_time": "2024-06-17T13:19:27.799789",
     "exception": false,
     "start_time": "2024-06-17T13:19:27.752805",
     "status": "completed"
    },
    "tags": []
   },
   "outputs": [
    {
     "name": "stdout",
     "output_type": "stream",
     "text": [
      "<class 'pandas.core.frame.DataFrame'>\n",
      "RangeIndex: 2023 entries, 0 to 2022\n",
      "Data columns (total 18 columns):\n",
      " #   Column      Non-Null Count  Dtype  \n",
      "---  ------      --------------  -----  \n",
      " 0   name        2023 non-null   object \n",
      " 1   type        2023 non-null   object \n",
      " 2   episodes    2023 non-null   object \n",
      " 3   status      2023 non-null   object \n",
      " 4   aired       2023 non-null   object \n",
      " 5   premiered   1035 non-null   object \n",
      " 6   broadcast   1035 non-null   object \n",
      " 7   producers   2023 non-null   object \n",
      " 8   licensors   2023 non-null   object \n",
      " 9   studios     2023 non-null   object \n",
      " 10  source      1365 non-null   object \n",
      " 11  genres      2023 non-null   object \n",
      " 12  duration    2023 non-null   object \n",
      " 13  rating      2022 non-null   object \n",
      " 14  score       2023 non-null   float64\n",
      " 15  ranked      2023 non-null   object \n",
      " 16  popularity  2023 non-null   object \n",
      " 17  favorites   2023 non-null   object \n",
      "dtypes: float64(1), object(17)\n",
      "memory usage: 284.6+ KB\n"
     ]
    }
   ],
   "source": [
    "df.info()"
   ]
  },
  {
   "cell_type": "code",
   "execution_count": 7,
   "id": "6af596b8",
   "metadata": {
    "execution": {
     "iopub.execute_input": "2024-06-17T13:19:27.821276Z",
     "iopub.status.busy": "2024-06-17T13:19:27.820456Z",
     "iopub.status.idle": "2024-06-17T13:19:27.827862Z",
     "shell.execute_reply": "2024-06-17T13:19:27.826493Z"
    },
    "papermill": {
     "duration": 0.02081,
     "end_time": "2024-06-17T13:19:27.830428",
     "exception": false,
     "start_time": "2024-06-17T13:19:27.809618",
     "status": "completed"
    },
    "tags": []
   },
   "outputs": [
    {
     "data": {
      "text/plain": [
       "Index(['name', 'type', 'episodes', 'status', 'aired', 'premiered', 'broadcast',\n",
       "       'producers', 'licensors', 'studios', 'source', 'genres', 'duration',\n",
       "       'rating', 'score', 'ranked', 'popularity', 'favorites'],\n",
       "      dtype='object')"
      ]
     },
     "execution_count": 7,
     "metadata": {},
     "output_type": "execute_result"
    }
   ],
   "source": [
    "df.columns"
   ]
  },
  {
   "cell_type": "code",
   "execution_count": 8,
   "id": "8b5a697e",
   "metadata": {
    "execution": {
     "iopub.execute_input": "2024-06-17T13:19:27.852386Z",
     "iopub.status.busy": "2024-06-17T13:19:27.851991Z",
     "iopub.status.idle": "2024-06-17T13:19:27.869460Z",
     "shell.execute_reply": "2024-06-17T13:19:27.868230Z"
    },
    "papermill": {
     "duration": 0.031517,
     "end_time": "2024-06-17T13:19:27.872078",
     "exception": false,
     "start_time": "2024-06-17T13:19:27.840561",
     "status": "completed"
    },
    "tags": []
   },
   "outputs": [
    {
     "data": {
      "text/html": [
       "<div>\n",
       "<style scoped>\n",
       "    .dataframe tbody tr th:only-of-type {\n",
       "        vertical-align: middle;\n",
       "    }\n",
       "\n",
       "    .dataframe tbody tr th {\n",
       "        vertical-align: top;\n",
       "    }\n",
       "\n",
       "    .dataframe thead th {\n",
       "        text-align: right;\n",
       "    }\n",
       "</style>\n",
       "<table border=\"1\" class=\"dataframe\">\n",
       "  <thead>\n",
       "    <tr style=\"text-align: right;\">\n",
       "      <th></th>\n",
       "      <th>score</th>\n",
       "    </tr>\n",
       "  </thead>\n",
       "  <tbody>\n",
       "    <tr>\n",
       "      <th>count</th>\n",
       "      <td>2023.000000</td>\n",
       "    </tr>\n",
       "    <tr>\n",
       "      <th>mean</th>\n",
       "      <td>7.848418</td>\n",
       "    </tr>\n",
       "    <tr>\n",
       "      <th>std</th>\n",
       "      <td>0.363651</td>\n",
       "    </tr>\n",
       "    <tr>\n",
       "      <th>min</th>\n",
       "      <td>7.400000</td>\n",
       "    </tr>\n",
       "    <tr>\n",
       "      <th>25%</th>\n",
       "      <td>7.550000</td>\n",
       "    </tr>\n",
       "    <tr>\n",
       "      <th>50%</th>\n",
       "      <td>7.750000</td>\n",
       "    </tr>\n",
       "    <tr>\n",
       "      <th>75%</th>\n",
       "      <td>8.080000</td>\n",
       "    </tr>\n",
       "    <tr>\n",
       "      <th>max</th>\n",
       "      <td>9.360000</td>\n",
       "    </tr>\n",
       "  </tbody>\n",
       "</table>\n",
       "</div>"
      ],
      "text/plain": [
       "             score\n",
       "count  2023.000000\n",
       "mean      7.848418\n",
       "std       0.363651\n",
       "min       7.400000\n",
       "25%       7.550000\n",
       "50%       7.750000\n",
       "75%       8.080000\n",
       "max       9.360000"
      ]
     },
     "execution_count": 8,
     "metadata": {},
     "output_type": "execute_result"
    }
   ],
   "source": [
    "df.describe()"
   ]
  },
  {
   "cell_type": "code",
   "execution_count": 9,
   "id": "4c391289",
   "metadata": {
    "execution": {
     "iopub.execute_input": "2024-06-17T13:19:27.894624Z",
     "iopub.status.busy": "2024-06-17T13:19:27.894200Z",
     "iopub.status.idle": "2024-06-17T13:19:27.927879Z",
     "shell.execute_reply": "2024-06-17T13:19:27.926687Z"
    },
    "papermill": {
     "duration": 0.048837,
     "end_time": "2024-06-17T13:19:27.931075",
     "exception": false,
     "start_time": "2024-06-17T13:19:27.882238",
     "status": "completed"
    },
    "tags": []
   },
   "outputs": [
    {
     "data": {
      "text/html": [
       "<div>\n",
       "<style scoped>\n",
       "    .dataframe tbody tr th:only-of-type {\n",
       "        vertical-align: middle;\n",
       "    }\n",
       "\n",
       "    .dataframe tbody tr th {\n",
       "        vertical-align: top;\n",
       "    }\n",
       "\n",
       "    .dataframe thead th {\n",
       "        text-align: right;\n",
       "    }\n",
       "</style>\n",
       "<table border=\"1\" class=\"dataframe\">\n",
       "  <thead>\n",
       "    <tr style=\"text-align: right;\">\n",
       "      <th></th>\n",
       "      <th>name</th>\n",
       "      <th>type</th>\n",
       "      <th>episodes</th>\n",
       "      <th>status</th>\n",
       "      <th>aired</th>\n",
       "      <th>premiered</th>\n",
       "      <th>broadcast</th>\n",
       "      <th>producers</th>\n",
       "      <th>licensors</th>\n",
       "      <th>studios</th>\n",
       "      <th>source</th>\n",
       "      <th>genres</th>\n",
       "      <th>duration</th>\n",
       "      <th>rating</th>\n",
       "      <th>score</th>\n",
       "      <th>ranked</th>\n",
       "      <th>popularity</th>\n",
       "      <th>favorites</th>\n",
       "    </tr>\n",
       "  </thead>\n",
       "  <tbody>\n",
       "    <tr>\n",
       "      <th>0</th>\n",
       "      <td>False</td>\n",
       "      <td>False</td>\n",
       "      <td>False</td>\n",
       "      <td>False</td>\n",
       "      <td>False</td>\n",
       "      <td>False</td>\n",
       "      <td>False</td>\n",
       "      <td>False</td>\n",
       "      <td>False</td>\n",
       "      <td>False</td>\n",
       "      <td>False</td>\n",
       "      <td>False</td>\n",
       "      <td>False</td>\n",
       "      <td>False</td>\n",
       "      <td>False</td>\n",
       "      <td>False</td>\n",
       "      <td>False</td>\n",
       "      <td>False</td>\n",
       "    </tr>\n",
       "    <tr>\n",
       "      <th>1</th>\n",
       "      <td>False</td>\n",
       "      <td>False</td>\n",
       "      <td>False</td>\n",
       "      <td>False</td>\n",
       "      <td>False</td>\n",
       "      <td>False</td>\n",
       "      <td>False</td>\n",
       "      <td>False</td>\n",
       "      <td>False</td>\n",
       "      <td>False</td>\n",
       "      <td>True</td>\n",
       "      <td>False</td>\n",
       "      <td>False</td>\n",
       "      <td>False</td>\n",
       "      <td>False</td>\n",
       "      <td>False</td>\n",
       "      <td>False</td>\n",
       "      <td>False</td>\n",
       "    </tr>\n",
       "    <tr>\n",
       "      <th>2</th>\n",
       "      <td>False</td>\n",
       "      <td>False</td>\n",
       "      <td>False</td>\n",
       "      <td>False</td>\n",
       "      <td>False</td>\n",
       "      <td>False</td>\n",
       "      <td>False</td>\n",
       "      <td>False</td>\n",
       "      <td>False</td>\n",
       "      <td>False</td>\n",
       "      <td>False</td>\n",
       "      <td>False</td>\n",
       "      <td>False</td>\n",
       "      <td>False</td>\n",
       "      <td>False</td>\n",
       "      <td>False</td>\n",
       "      <td>False</td>\n",
       "      <td>False</td>\n",
       "    </tr>\n",
       "    <tr>\n",
       "      <th>3</th>\n",
       "      <td>False</td>\n",
       "      <td>False</td>\n",
       "      <td>False</td>\n",
       "      <td>False</td>\n",
       "      <td>False</td>\n",
       "      <td>False</td>\n",
       "      <td>False</td>\n",
       "      <td>False</td>\n",
       "      <td>False</td>\n",
       "      <td>False</td>\n",
       "      <td>False</td>\n",
       "      <td>False</td>\n",
       "      <td>False</td>\n",
       "      <td>False</td>\n",
       "      <td>False</td>\n",
       "      <td>False</td>\n",
       "      <td>False</td>\n",
       "      <td>False</td>\n",
       "    </tr>\n",
       "    <tr>\n",
       "      <th>4</th>\n",
       "      <td>False</td>\n",
       "      <td>False</td>\n",
       "      <td>False</td>\n",
       "      <td>False</td>\n",
       "      <td>False</td>\n",
       "      <td>False</td>\n",
       "      <td>False</td>\n",
       "      <td>False</td>\n",
       "      <td>False</td>\n",
       "      <td>False</td>\n",
       "      <td>False</td>\n",
       "      <td>False</td>\n",
       "      <td>False</td>\n",
       "      <td>False</td>\n",
       "      <td>False</td>\n",
       "      <td>False</td>\n",
       "      <td>False</td>\n",
       "      <td>False</td>\n",
       "    </tr>\n",
       "    <tr>\n",
       "      <th>...</th>\n",
       "      <td>...</td>\n",
       "      <td>...</td>\n",
       "      <td>...</td>\n",
       "      <td>...</td>\n",
       "      <td>...</td>\n",
       "      <td>...</td>\n",
       "      <td>...</td>\n",
       "      <td>...</td>\n",
       "      <td>...</td>\n",
       "      <td>...</td>\n",
       "      <td>...</td>\n",
       "      <td>...</td>\n",
       "      <td>...</td>\n",
       "      <td>...</td>\n",
       "      <td>...</td>\n",
       "      <td>...</td>\n",
       "      <td>...</td>\n",
       "      <td>...</td>\n",
       "    </tr>\n",
       "    <tr>\n",
       "      <th>2018</th>\n",
       "      <td>False</td>\n",
       "      <td>False</td>\n",
       "      <td>False</td>\n",
       "      <td>False</td>\n",
       "      <td>False</td>\n",
       "      <td>False</td>\n",
       "      <td>False</td>\n",
       "      <td>False</td>\n",
       "      <td>False</td>\n",
       "      <td>False</td>\n",
       "      <td>False</td>\n",
       "      <td>False</td>\n",
       "      <td>False</td>\n",
       "      <td>False</td>\n",
       "      <td>False</td>\n",
       "      <td>False</td>\n",
       "      <td>False</td>\n",
       "      <td>False</td>\n",
       "    </tr>\n",
       "    <tr>\n",
       "      <th>2019</th>\n",
       "      <td>False</td>\n",
       "      <td>False</td>\n",
       "      <td>False</td>\n",
       "      <td>False</td>\n",
       "      <td>False</td>\n",
       "      <td>False</td>\n",
       "      <td>False</td>\n",
       "      <td>False</td>\n",
       "      <td>False</td>\n",
       "      <td>False</td>\n",
       "      <td>False</td>\n",
       "      <td>False</td>\n",
       "      <td>False</td>\n",
       "      <td>False</td>\n",
       "      <td>False</td>\n",
       "      <td>False</td>\n",
       "      <td>False</td>\n",
       "      <td>False</td>\n",
       "    </tr>\n",
       "    <tr>\n",
       "      <th>2020</th>\n",
       "      <td>False</td>\n",
       "      <td>False</td>\n",
       "      <td>False</td>\n",
       "      <td>False</td>\n",
       "      <td>False</td>\n",
       "      <td>False</td>\n",
       "      <td>False</td>\n",
       "      <td>False</td>\n",
       "      <td>False</td>\n",
       "      <td>False</td>\n",
       "      <td>False</td>\n",
       "      <td>False</td>\n",
       "      <td>False</td>\n",
       "      <td>False</td>\n",
       "      <td>False</td>\n",
       "      <td>False</td>\n",
       "      <td>False</td>\n",
       "      <td>False</td>\n",
       "    </tr>\n",
       "    <tr>\n",
       "      <th>2021</th>\n",
       "      <td>False</td>\n",
       "      <td>False</td>\n",
       "      <td>False</td>\n",
       "      <td>False</td>\n",
       "      <td>False</td>\n",
       "      <td>True</td>\n",
       "      <td>True</td>\n",
       "      <td>False</td>\n",
       "      <td>False</td>\n",
       "      <td>False</td>\n",
       "      <td>True</td>\n",
       "      <td>False</td>\n",
       "      <td>False</td>\n",
       "      <td>False</td>\n",
       "      <td>False</td>\n",
       "      <td>False</td>\n",
       "      <td>False</td>\n",
       "      <td>False</td>\n",
       "    </tr>\n",
       "    <tr>\n",
       "      <th>2022</th>\n",
       "      <td>False</td>\n",
       "      <td>False</td>\n",
       "      <td>False</td>\n",
       "      <td>False</td>\n",
       "      <td>False</td>\n",
       "      <td>True</td>\n",
       "      <td>True</td>\n",
       "      <td>False</td>\n",
       "      <td>False</td>\n",
       "      <td>False</td>\n",
       "      <td>False</td>\n",
       "      <td>False</td>\n",
       "      <td>False</td>\n",
       "      <td>False</td>\n",
       "      <td>False</td>\n",
       "      <td>False</td>\n",
       "      <td>False</td>\n",
       "      <td>False</td>\n",
       "    </tr>\n",
       "  </tbody>\n",
       "</table>\n",
       "<p>2023 rows × 18 columns</p>\n",
       "</div>"
      ],
      "text/plain": [
       "       name   type  episodes  status  aired  premiered  broadcast  producers  \\\n",
       "0     False  False     False   False  False      False      False      False   \n",
       "1     False  False     False   False  False      False      False      False   \n",
       "2     False  False     False   False  False      False      False      False   \n",
       "3     False  False     False   False  False      False      False      False   \n",
       "4     False  False     False   False  False      False      False      False   \n",
       "...     ...    ...       ...     ...    ...        ...        ...        ...   \n",
       "2018  False  False     False   False  False      False      False      False   \n",
       "2019  False  False     False   False  False      False      False      False   \n",
       "2020  False  False     False   False  False      False      False      False   \n",
       "2021  False  False     False   False  False       True       True      False   \n",
       "2022  False  False     False   False  False       True       True      False   \n",
       "\n",
       "      licensors  studios  source  genres  duration  rating  score  ranked  \\\n",
       "0         False    False   False   False     False   False  False   False   \n",
       "1         False    False    True   False     False   False  False   False   \n",
       "2         False    False   False   False     False   False  False   False   \n",
       "3         False    False   False   False     False   False  False   False   \n",
       "4         False    False   False   False     False   False  False   False   \n",
       "...         ...      ...     ...     ...       ...     ...    ...     ...   \n",
       "2018      False    False   False   False     False   False  False   False   \n",
       "2019      False    False   False   False     False   False  False   False   \n",
       "2020      False    False   False   False     False   False  False   False   \n",
       "2021      False    False    True   False     False   False  False   False   \n",
       "2022      False    False   False   False     False   False  False   False   \n",
       "\n",
       "      popularity  favorites  \n",
       "0          False      False  \n",
       "1          False      False  \n",
       "2          False      False  \n",
       "3          False      False  \n",
       "4          False      False  \n",
       "...          ...        ...  \n",
       "2018       False      False  \n",
       "2019       False      False  \n",
       "2020       False      False  \n",
       "2021       False      False  \n",
       "2022       False      False  \n",
       "\n",
       "[2023 rows x 18 columns]"
      ]
     },
     "execution_count": 9,
     "metadata": {},
     "output_type": "execute_result"
    }
   ],
   "source": [
    "df.isnull()"
   ]
  },
  {
   "cell_type": "code",
   "execution_count": 10,
   "id": "cffa2815",
   "metadata": {
    "execution": {
     "iopub.execute_input": "2024-06-17T13:19:27.955388Z",
     "iopub.status.busy": "2024-06-17T13:19:27.954967Z",
     "iopub.status.idle": "2024-06-17T13:19:27.968807Z",
     "shell.execute_reply": "2024-06-17T13:19:27.967632Z"
    },
    "papermill": {
     "duration": 0.029315,
     "end_time": "2024-06-17T13:19:27.971509",
     "exception": false,
     "start_time": "2024-06-17T13:19:27.942194",
     "status": "completed"
    },
    "tags": []
   },
   "outputs": [
    {
     "data": {
      "text/plain": [
       "name            0\n",
       "type            0\n",
       "episodes        0\n",
       "status          0\n",
       "aired           0\n",
       "premiered     988\n",
       "broadcast     988\n",
       "producers       0\n",
       "licensors       0\n",
       "studios         0\n",
       "source        658\n",
       "genres          0\n",
       "duration        0\n",
       "rating          1\n",
       "score           0\n",
       "ranked          0\n",
       "popularity      0\n",
       "favorites       0\n",
       "dtype: int64"
      ]
     },
     "execution_count": 10,
     "metadata": {},
     "output_type": "execute_result"
    }
   ],
   "source": [
    "df.isnull().sum()"
   ]
  },
  {
   "cell_type": "code",
   "execution_count": 11,
   "id": "ef5ab736",
   "metadata": {
    "execution": {
     "iopub.execute_input": "2024-06-17T13:19:27.996031Z",
     "iopub.status.busy": "2024-06-17T13:19:27.995661Z",
     "iopub.status.idle": "2024-06-17T13:19:28.019305Z",
     "shell.execute_reply": "2024-06-17T13:19:28.018191Z"
    },
    "papermill": {
     "duration": 0.038991,
     "end_time": "2024-06-17T13:19:28.021876",
     "exception": false,
     "start_time": "2024-06-17T13:19:27.982885",
     "status": "completed"
    },
    "tags": []
   },
   "outputs": [
    {
     "data": {
      "text/html": [
       "<div>\n",
       "<style scoped>\n",
       "    .dataframe tbody tr th:only-of-type {\n",
       "        vertical-align: middle;\n",
       "    }\n",
       "\n",
       "    .dataframe tbody tr th {\n",
       "        vertical-align: top;\n",
       "    }\n",
       "\n",
       "    .dataframe thead th {\n",
       "        text-align: right;\n",
       "    }\n",
       "</style>\n",
       "<table border=\"1\" class=\"dataframe\">\n",
       "  <thead>\n",
       "    <tr style=\"text-align: right;\">\n",
       "      <th></th>\n",
       "      <th>name</th>\n",
       "      <th>type</th>\n",
       "      <th>episodes</th>\n",
       "      <th>status</th>\n",
       "      <th>aired</th>\n",
       "      <th>premiered</th>\n",
       "      <th>broadcast</th>\n",
       "      <th>producers</th>\n",
       "      <th>licensors</th>\n",
       "      <th>studios</th>\n",
       "      <th>source</th>\n",
       "      <th>genres</th>\n",
       "      <th>duration</th>\n",
       "      <th>rating</th>\n",
       "      <th>score</th>\n",
       "      <th>ranked</th>\n",
       "      <th>popularity</th>\n",
       "      <th>favorites</th>\n",
       "    </tr>\n",
       "  </thead>\n",
       "  <tbody>\n",
       "  </tbody>\n",
       "</table>\n",
       "</div>"
      ],
      "text/plain": [
       "Empty DataFrame\n",
       "Columns: [name, type, episodes, status, aired, premiered, broadcast, producers, licensors, studios, source, genres, duration, rating, score, ranked, popularity, favorites]\n",
       "Index: []"
      ]
     },
     "execution_count": 11,
     "metadata": {},
     "output_type": "execute_result"
    }
   ],
   "source": [
    "df[df.duplicated()]"
   ]
  },
  {
   "cell_type": "code",
   "execution_count": 12,
   "id": "93eae64d",
   "metadata": {
    "execution": {
     "iopub.execute_input": "2024-06-17T13:19:28.046054Z",
     "iopub.status.busy": "2024-06-17T13:19:28.045043Z",
     "iopub.status.idle": "2024-06-17T13:19:28.052772Z",
     "shell.execute_reply": "2024-06-17T13:19:28.051597Z"
    },
    "papermill": {
     "duration": 0.02242,
     "end_time": "2024-06-17T13:19:28.055242",
     "exception": false,
     "start_time": "2024-06-17T13:19:28.032822",
     "status": "completed"
    },
    "tags": []
   },
   "outputs": [
    {
     "data": {
      "text/plain": [
       "(2023, 18)"
      ]
     },
     "execution_count": 12,
     "metadata": {},
     "output_type": "execute_result"
    }
   ],
   "source": [
    "df.shape"
   ]
  },
  {
   "cell_type": "code",
   "execution_count": 13,
   "id": "3bcdd733",
   "metadata": {
    "execution": {
     "iopub.execute_input": "2024-06-17T13:19:28.080409Z",
     "iopub.status.busy": "2024-06-17T13:19:28.080018Z",
     "iopub.status.idle": "2024-06-17T13:19:28.095084Z",
     "shell.execute_reply": "2024-06-17T13:19:28.093981Z"
    },
    "papermill": {
     "duration": 0.030552,
     "end_time": "2024-06-17T13:19:28.097731",
     "exception": false,
     "start_time": "2024-06-17T13:19:28.067179",
     "status": "completed"
    },
    "tags": []
   },
   "outputs": [
    {
     "data": {
      "text/plain": [
       "0"
      ]
     },
     "execution_count": 13,
     "metadata": {},
     "output_type": "execute_result"
    }
   ],
   "source": [
    "df.duplicated().sum()"
   ]
  },
  {
   "cell_type": "code",
   "execution_count": 14,
   "id": "0aac95cb",
   "metadata": {
    "execution": {
     "iopub.execute_input": "2024-06-17T13:19:28.122987Z",
     "iopub.status.busy": "2024-06-17T13:19:28.122569Z",
     "iopub.status.idle": "2024-06-17T13:19:28.132607Z",
     "shell.execute_reply": "2024-06-17T13:19:28.131460Z"
    },
    "papermill": {
     "duration": 0.025648,
     "end_time": "2024-06-17T13:19:28.135129",
     "exception": false,
     "start_time": "2024-06-17T13:19:28.109481",
     "status": "completed"
    },
    "tags": []
   },
   "outputs": [
    {
     "data": {
      "text/plain": [
       "type\n",
       "TV            1035\n",
       "Movie          456\n",
       "OVA            188\n",
       "ONA            177\n",
       "Special        119\n",
       "TV Special      48\n",
       "Name: count, dtype: int64"
      ]
     },
     "execution_count": 14,
     "metadata": {},
     "output_type": "execute_result"
    }
   ],
   "source": [
    "type_counts = df['type'].value_counts()\n",
    "type_counts"
   ]
  },
  {
   "cell_type": "code",
   "execution_count": 15,
   "id": "4d574ba9",
   "metadata": {
    "execution": {
     "iopub.execute_input": "2024-06-17T13:19:28.159961Z",
     "iopub.status.busy": "2024-06-17T13:19:28.159539Z",
     "iopub.status.idle": "2024-06-17T13:19:28.171670Z",
     "shell.execute_reply": "2024-06-17T13:19:28.170605Z"
    },
    "papermill": {
     "duration": 0.02791,
     "end_time": "2024-06-17T13:19:28.174538",
     "exception": false,
     "start_time": "2024-06-17T13:19:28.146628",
     "status": "completed"
    },
    "tags": []
   },
   "outputs": [],
   "source": [
    "df['episodes'] = pd.to_numeric(df['episodes'], errors='coerce')\n",
    "df = df.dropna(subset=['episodes'])"
   ]
  },
  {
   "cell_type": "code",
   "execution_count": 16,
   "id": "328a9993",
   "metadata": {
    "execution": {
     "iopub.execute_input": "2024-06-17T13:19:28.201133Z",
     "iopub.status.busy": "2024-06-17T13:19:28.199903Z",
     "iopub.status.idle": "2024-06-17T13:19:28.219647Z",
     "shell.execute_reply": "2024-06-17T13:19:28.218465Z"
    },
    "papermill": {
     "duration": 0.035987,
     "end_time": "2024-06-17T13:19:28.222445",
     "exception": false,
     "start_time": "2024-06-17T13:19:28.186458",
     "status": "completed"
    },
    "tags": []
   },
   "outputs": [
    {
     "name": "stdout",
     "output_type": "stream",
     "text": [
      "Top 5 anime with the highest number of episodes:\n"
     ]
    },
    {
     "data": {
      "text/html": [
       "<div>\n",
       "<style scoped>\n",
       "    .dataframe tbody tr th:only-of-type {\n",
       "        vertical-align: middle;\n",
       "    }\n",
       "\n",
       "    .dataframe tbody tr th {\n",
       "        vertical-align: top;\n",
       "    }\n",
       "\n",
       "    .dataframe thead th {\n",
       "        text-align: right;\n",
       "    }\n",
       "</style>\n",
       "<table border=\"1\" class=\"dataframe\">\n",
       "  <thead>\n",
       "    <tr style=\"text-align: right;\">\n",
       "      <th></th>\n",
       "      <th>name</th>\n",
       "      <th>episodes</th>\n",
       "    </tr>\n",
       "  </thead>\n",
       "  <tbody>\n",
       "    <tr>\n",
       "      <th>839</th>\n",
       "      <td>Doraemon (1979)</td>\n",
       "      <td>1787.0</td>\n",
       "    </tr>\n",
       "    <tr>\n",
       "      <th>272</th>\n",
       "      <td>Naruto: Shippuuden</td>\n",
       "      <td>500.0</td>\n",
       "    </tr>\n",
       "    <tr>\n",
       "      <th>1603</th>\n",
       "      <td>Wushen Zhuzai</td>\n",
       "      <td>496.0</td>\n",
       "    </tr>\n",
       "    <tr>\n",
       "      <th>941</th>\n",
       "      <td>Kochira Katsushikaku Kameari Kouenmae Hashutsujo</td>\n",
       "      <td>373.0</td>\n",
       "    </tr>\n",
       "    <tr>\n",
       "      <th>662</th>\n",
       "      <td>Bleach</td>\n",
       "      <td>366.0</td>\n",
       "    </tr>\n",
       "  </tbody>\n",
       "</table>\n",
       "</div>"
      ],
      "text/plain": [
       "                                                  name  episodes\n",
       "839                                    Doraemon (1979)    1787.0\n",
       "272                                 Naruto: Shippuuden     500.0\n",
       "1603                                     Wushen Zhuzai     496.0\n",
       "941   Kochira Katsushikaku Kameari Kouenmae Hashutsujo     373.0\n",
       "662                                             Bleach     366.0"
      ]
     },
     "execution_count": 16,
     "metadata": {},
     "output_type": "execute_result"
    }
   ],
   "source": [
    "top_5_episodes = df.nlargest(5, 'episodes')\n",
    "print(\"Top 5 anime with the highest number of episodes:\")\n",
    "top_5_episodes[['name', 'episodes']]"
   ]
  },
  {
   "cell_type": "code",
   "execution_count": 17,
   "id": "4eae4d9f",
   "metadata": {
    "execution": {
     "iopub.execute_input": "2024-06-17T13:19:28.247726Z",
     "iopub.status.busy": "2024-06-17T13:19:28.247265Z",
     "iopub.status.idle": "2024-06-17T13:19:28.255478Z",
     "shell.execute_reply": "2024-06-17T13:19:28.254327Z"
    },
    "papermill": {
     "duration": 0.024249,
     "end_time": "2024-06-17T13:19:28.258570",
     "exception": false,
     "start_time": "2024-06-17T13:19:28.234321",
     "status": "completed"
    },
    "tags": []
   },
   "outputs": [
    {
     "name": "stdout",
     "output_type": "stream",
     "text": [
      "Top 5 premiering seasons with their counts:\n",
      "premiered\n",
      "Winter 2023    21\n",
      "Fall 2022      20\n",
      "Fall 2023      20\n",
      "Fall 2012      18\n",
      "Spring 2023    18\n",
      "Name: count, dtype: int64\n"
     ]
    }
   ],
   "source": [
    "type_counts = df['premiered'].value_counts()\n",
    "top_counts = type_counts.head(5)\n",
    "print(\"Top 5 premiering seasons with their counts:\")\n",
    "print(top_counts)"
   ]
  },
  {
   "cell_type": "code",
   "execution_count": 18,
   "id": "371a3c70",
   "metadata": {
    "execution": {
     "iopub.execute_input": "2024-06-17T13:19:28.285710Z",
     "iopub.status.busy": "2024-06-17T13:19:28.284402Z",
     "iopub.status.idle": "2024-06-17T13:19:30.268015Z",
     "shell.execute_reply": "2024-06-17T13:19:30.266905Z"
    },
    "papermill": {
     "duration": 2.000285,
     "end_time": "2024-06-17T13:19:30.271175",
     "exception": false,
     "start_time": "2024-06-17T13:19:28.270890",
     "status": "completed"
    },
    "tags": []
   },
   "outputs": [
    {
     "data": {
      "image/png": "[encoded data removed]",
      "text/plain": [
       "<Figure size 2000x600 with 1 Axes>"
      ]
     },
     "metadata": {},
     "output_type": "display_data"
    }
   ],
   "source": [
    "type_counts = df['premiered'].value_counts()\n",
    "\n",
    "# Plotting the bar chart\n",
    "plt.figure(figsize=(20, 6))\n",
    "type_counts.plot(kind='bar', color=['#1f77b4', '#ff7f0e', '#2ca02c', '#d62728', '#9467bd'])\n",
    "plt.title('Number of Animes Premiered by Season')\n",
    "plt.xlabel('Premiered Season')\n",
    "plt.ylabel('Number of Animes')\n",
    "plt.xticks(rotation=90)\n",
    "plt.grid(axis='y', linestyle='--', alpha=0.7)\n",
    "plt.tight_layout()\n",
    "plt.show()"
   ]
  },
  {
   "cell_type": "code",
   "execution_count": 19,
   "id": "1db68edb",
   "metadata": {
    "execution": {
     "iopub.execute_input": "2024-06-17T13:19:30.301161Z",
     "iopub.status.busy": "2024-06-17T13:19:30.300725Z",
     "iopub.status.idle": "2024-06-17T13:19:30.324622Z",
     "shell.execute_reply": "2024-06-17T13:19:30.323433Z"
    },
    "papermill": {
     "duration": 0.042008,
     "end_time": "2024-06-17T13:19:30.327236",
     "exception": false,
     "start_time": "2024-06-17T13:19:30.285228",
     "status": "completed"
    },
    "tags": []
   },
   "outputs": [
    {
     "data": {
      "text/plain": [
       "genres\n",
       "['Comedy', 'Drama', 'Romance', 'Sci-Fi', 'Ecchi']         7.40\n",
       "['Action', 'Fantasy', 'Girls Love']                       7.41\n",
       "['Drama', 'Fantasy', 'Girls Love']                        7.42\n",
       "['Action', 'Comedy', 'Fantasy', 'Romance', 'Ecchi']       7.42\n",
       "['Adventure', 'Comedy', 'Drama', 'Gourmet', 'Romance']    7.42\n",
       "                                                          ... \n",
       "['Action', 'Drama', 'Suspense']                           9.05\n",
       "['Action', 'Comedy', 'Sci-Fi']                            9.06\n",
       "['Drama', 'Sci-Fi', 'Suspense']                           9.07\n",
       "['Action', 'Adventure', 'Drama', 'Fantasy']               9.09\n",
       "['Adventure', 'Drama', 'Fantasy']                         9.36\n",
       "Name: score, Length: 353, dtype: float64"
      ]
     },
     "execution_count": 19,
     "metadata": {},
     "output_type": "execute_result"
    }
   ],
   "source": [
    "df_exploded = df.explode('genres')\n",
    "genre_score = df_exploded.groupby('genres')['score'].max().sort_values()\n",
    "genre_score"
   ]
  },
  {
   "cell_type": "code",
   "execution_count": 20,
   "id": "a59bdda8",
   "metadata": {
    "execution": {
     "iopub.execute_input": "2024-06-17T13:19:30.356550Z",
     "iopub.status.busy": "2024-06-17T13:19:30.356118Z",
     "iopub.status.idle": "2024-06-17T13:19:30.375198Z",
     "shell.execute_reply": "2024-06-17T13:19:30.373865Z"
    },
    "papermill": {
     "duration": 0.036811,
     "end_time": "2024-06-17T13:19:30.377917",
     "exception": false,
     "start_time": "2024-06-17T13:19:30.341106",
     "status": "completed"
    },
    "tags": []
   },
   "outputs": [
    {
     "data": {
      "text/plain": [
       "genres\n",
       "['Adventure', 'Drama', 'Fantasy']              9.36\n",
       "['Action', 'Adventure', 'Drama', 'Fantasy']    9.09\n",
       "['Drama', 'Sci-Fi', 'Suspense']                9.07\n",
       "['Action', 'Comedy', 'Sci-Fi']                 9.06\n",
       "['Action', 'Drama', 'Suspense']                9.05\n",
       "Name: score, dtype: float64"
      ]
     },
     "execution_count": 20,
     "metadata": {},
     "output_type": "execute_result"
    }
   ],
   "source": [
    "df_exploded = df.explode('genres')\n",
    "genre_score = df_exploded.groupby('genres')['score'].max().sort_values(ascending=False)\n",
    "top_5_genres = genre_score.head(5)\n",
    "top_5_genres\n"
   ]
  },
  {
   "cell_type": "code",
   "execution_count": 21,
   "id": "56bb0953",
   "metadata": {
    "execution": {
     "iopub.execute_input": "2024-06-17T13:19:30.407651Z",
     "iopub.status.busy": "2024-06-17T13:19:30.407201Z",
     "iopub.status.idle": "2024-06-17T13:19:30.865244Z",
     "shell.execute_reply": "2024-06-17T13:19:30.864188Z"
    },
    "papermill": {
     "duration": 0.476107,
     "end_time": "2024-06-17T13:19:30.867864",
     "exception": false,
     "start_time": "2024-06-17T13:19:30.391757",
     "status": "completed"
    },
    "tags": []
   },
   "outputs": [
    {
     "data": {
      "image/png": "[encoded data removed]",
      "text/plain": [
       "<Figure size 1200x800 with 1 Axes>"
      ]
     },
     "metadata": {},
     "output_type": "display_data"
    }
   ],
   "source": [
    "df_sorted = df.sort_values(by='score', ascending=False)\n",
    "\n",
    "top_10 = df_sorted.head(10)\n",
    "\n",
    "plt.figure(figsize=(12, 8))\n",
    "plt.barh(top_10['name'], top_10['score'], color='purple')\n",
    "plt.title('Top 10 Anime by Score')\n",
    "plt.xlabel('Score')\n",
    "plt.ylabel('Anime')\n",
    "plt.gca().invert_yaxis()  \n",
    "plt.grid(axis='x', linestyle='--', alpha=0.7)\n",
    "plt.tight_layout()\n",
    "plt.show()"
   ]
  },
  {
   "cell_type": "code",
   "execution_count": 22,
   "id": "f2f8dde7",
   "metadata": {
    "execution": {
     "iopub.execute_input": "2024-06-17T13:19:30.899088Z",
     "iopub.status.busy": "2024-06-17T13:19:30.898678Z",
     "iopub.status.idle": "2024-06-17T13:19:32.693831Z",
     "shell.execute_reply": "2024-06-17T13:19:32.692544Z"
    },
    "papermill": {
     "duration": 1.8148,
     "end_time": "2024-06-17T13:19:32.697324",
     "exception": false,
     "start_time": "2024-06-17T13:19:30.882524",
     "status": "completed"
    },
    "tags": []
   },
   "outputs": [
    {
     "data": {
      "image/png": "[encoded data removed]",
      "text/plain": [
       "<Figure size 2000x800 with 1 Axes>"
      ]
     },
     "metadata": {},
     "output_type": "display_data"
    }
   ],
   "source": [
    "df = pd.DataFrame(df)\n",
    "premiered_score = df.groupby('premiered')['score'].mean().sort_values()\n",
    "\n",
    "\n",
    "plt.figure(figsize=(20, 8))\n",
    "premiered_score.plot(kind='bar', color='blue')\n",
    "plt.title('Average Score by Premiered Season')\n",
    "plt.xlabel('Premiered Season')\n",
    "plt.ylabel('Average Score')\n",
    "plt.xticks(rotation=90, ha='right')\n",
    "plt.grid(axis='y', linestyle='--', alpha=0.7)\n",
    "plt.tight_layout()\n",
    "plt.show()"
   ]
  },
  {
   "cell_type": "code",
   "execution_count": null,
   "id": "9cbc4979",
   "metadata": {
    "papermill": {
     "duration": 0.015499,
     "end_time": "2024-06-17T13:19:32.729326",
     "exception": false,
     "start_time": "2024-06-17T13:19:32.713827",
     "status": "completed"
    },
    "tags": []
   },
   "outputs": [],
   "source": []
  }
 ],
 "metadata": {
  "kaggle": {
   "accelerator": "none",
   "dataSources": [
    {
     "datasetId": 5164613,
     "sourceId": 8626449,
     "sourceType": "datasetVersion"
    }
   ],
   "dockerImageVersionId": 30732,
   "isGpuEnabled": false,
   "isInternetEnabled": true,
   "language": "python",
   "sourceType": "notebook"
  },
  "kernelspec": {
   "display_name": "Python 3",
   "language": "python",
   "name": "python3"
  },
  "language_info": {
   "codemirror_mode": {
    "name": "ipython",
    "version": 3
   },
   "file_extension": ".py",
   "mimetype": "text/x-python",
   "name": "python",
   "nbconvert_exporter": "python",
   "pygments_lexer": "ipython3",
   "version": "3.10.13"
  },
  "papermill": {
   "default_parameters": {},
   "duration": 11.342671,
   "end_time": "2024-06-17T13:19:33.368008",
   "environment_variables": {},
   "exception": null,
   "input_path": "__notebook__.ipynb",
   "output_path": "__notebook__.ipynb",
   "parameters": {},
   "start_time": "2024-06-17T13:19:22.025337",
   "version": "2.5.0"
  }
 },
 "nbformat": 4,
 "nbformat_minor": 5
}
